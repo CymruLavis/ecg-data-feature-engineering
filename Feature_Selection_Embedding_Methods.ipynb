{
  "nbformat": 4,
  "nbformat_minor": 0,
  "metadata": {
    "colab": {
      "provenance": [],
      "include_colab_link": true
    },
    "kernelspec": {
      "name": "python3",
      "display_name": "Python 3"
    },
    "language_info": {
      "name": "python"
    }
  },
  "cells": [
    {
      "cell_type": "markdown",
      "metadata": {
        "id": "view-in-github",
        "colab_type": "text"
      },
      "source": [
        "<a href=\"https://colab.research.google.com/github/saleemhamo/ecg-data-feature-engineering/blob/main/Feature_Selection_Embedding_Methods.ipynb\" target=\"_parent\"><img src=\"https://colab.research.google.com/assets/colab-badge.svg\" alt=\"Open In Colab\"/></a>"
      ]
    },
    {
      "cell_type": "markdown",
      "source": [
        "# Prepare Data"
      ],
      "metadata": {
        "id": "Mz-mppveFfZH"
      }
    },
    {
      "cell_type": "code",
      "source": [
        "from google.colab import drive\n",
        "drive.mount('/content/drive')"
      ],
      "metadata": {
        "colab": {
          "base_uri": "https://localhost:8080/"
        },
        "id": "juY6_HvUFl5u",
        "outputId": "9dbd5c09-dabf-487d-fa7d-6fdac0a7152d"
      },
      "execution_count": null,
      "outputs": [
        {
          "output_type": "stream",
          "name": "stdout",
          "text": [
            "Mounted at /content/drive\n"
          ]
        }
      ]
    },
    {
      "cell_type": "code",
      "source": [
        "# Import necessary libraries\n",
        "import numpy as np\n",
        "import pandas as pd\n",
        "from sklearn.feature_selection import SelectKBest\n",
        "from sklearn.feature_selection import chi2, f_classif, mutual_info_classif\n",
        "from sklearn.model_selection import cross_val_score\n",
        "from sklearn.ensemble import RandomForestClassifier\n",
        "from sklearn.neighbors import KNeighborsClassifier\n",
        "from sklearn.svm import SVC\n",
        "from sklearn.preprocessing import LabelEncoder\n",
        "from sklearn.preprocessing import KBinsDiscretizer\n",
        "from scipy.stats import pearsonr\n",
        "from sklearn.model_selection import LeaveOneGroupOut\n",
        "from sklearn.linear_model import Lasso, ElasticNet, Ridge\n",
        "import matplotlib.pyplot as plt\n",
        "from sklearn.metrics import classification_report\n",
        "from sklearn.model_selection import train_test_split"
      ],
      "metadata": {
        "id": "dmkfbI07ukcm"
      },
      "execution_count": null,
      "outputs": []
    },
    {
      "cell_type": "code",
      "source": [
        "emb_feature_names = pd.read_csv('/content/drive/My Drive/Glasgow ML/Case Studies/CaseStudy3/feature_names.csv').columns.tolist()\n",
        "emb_labels = pd.read_csv('/content/drive/My Drive/Glasgow ML/Case Studies/CaseStudy3/labels.csv', header=None, names=['labels'])\n",
        "emb_data = pd.read_csv('/content/drive/My Drive/Glasgow ML/Case Studies/CaseStudy3/data.csv', header=None, names=emb_feature_names)\n",
        "\n"
      ],
      "metadata": {
        "id": "9C1O5nb1s7Ov"
      },
      "execution_count": null,
      "outputs": []
    },
    {
      "cell_type": "markdown",
      "source": [
        "## Embedding Methods\n",
        "Three methods of completeing Embedding feature engineering.\n",
        "Lasso, Ridge, Elastic Net"
      ],
      "metadata": {
        "id": "cUd6llzT0_lw"
      }
    },
    {
      "cell_type": "code",
      "source": [
        "# Determining the Lasso coefficients for this data\n",
        "np_data, np_labels = emb_data.to_numpy(), emb_labels.to_numpy()\n",
        "lasso = Lasso(alpha=1)\n",
        "lasso.fit(np_data, np_labels)\n",
        "print(lasso.coef_)"
      ],
      "metadata": {
        "id": "4XSQVjRXESol"
      },
      "execution_count": null,
      "outputs": []
    },
    {
      "cell_type": "code",
      "source": [
        "# Determining the ElasticNet coefficients for this data\n",
        "elastic = ElasticNet(alpha=0.1)\n",
        "elastic.fit(np_data, np_labels)\n",
        "print(elastic.coef_)"
      ],
      "metadata": {
        "id": "gApH5Qzy_QKf"
      },
      "execution_count": null,
      "outputs": []
    },
    {
      "cell_type": "code",
      "source": [
        "# Determining the ridge coefficients for this data\n",
        "ridge_reg = Ridge(alpha=1.0)\n",
        "ridge_reg.fit(np_data, np_labels)\n",
        "print(ridge_reg.coef_)\n",
        "abs_coef = abs(ridge_reg.coef_[0])\n",
        "plt.boxplot(abs_coef)\n",
        "plt.show()"
      ],
      "metadata": {
        "id": "rtQ734vkGILB"
      },
      "execution_count": null,
      "outputs": []
    },
    {
      "cell_type": "code",
      "source": [
        "# creates a new data set containting the data for features that are in the top\n",
        "# 25% of the values outputted from the ridge regression model\n",
        "\n",
        "coef = ridge_reg.coef_.tolist()[0]\n",
        "ridge_features = emb_feature_names\n",
        "top_25_threshold = np.percentile(abs_coef, 75)\n",
        "new_coefs = []\n",
        "new_feature_names = []\n",
        "for cof in coef:\n",
        "  if abs(cof) >= top_25_threshold :\n",
        "    new_coefs.append(cof)\n",
        "    new_feature_names.append(ridge_features[coef.index(cof)])\n",
        "\n",
        "\n",
        "print(f\"Size: {len(new_coefs)} with items:\" , new_coefs)\n",
        "print(f\"Size: {len(new_feature_names)} with items:\" , new_feature_names)\n",
        "\n",
        "q75_df = emb_data[new_feature_names].copy()\n",
        "q75_df.columns = new_feature_names\n",
        "\n",
        "q75_df.head()\n",
        "\n"
      ],
      "metadata": {
        "id": "XM9bVuH5DkCT",
        "colab": {
          "base_uri": "https://localhost:8080/",
          "height": 290
        },
        "outputId": "dd5bff0e-7721-4809-c0ce-76fccc96f474"
      },
      "execution_count": null,
      "outputs": [
        {
          "output_type": "stream",
          "name": "stdout",
          "text": [
            "Size: 108 with items: [-0.10845467826547067, 0.1477302030949224, -0.14581275299742738, -0.11995779623426733, -0.08236430841614353, -0.10277574800748498, -0.10271737702434355, 0.0999682666621376, 0.13573546380099716, -0.08575810096240696, -0.23020265902125447, 0.09558904485808284, 0.15216337697965793, 0.13448487121822011, 0.1348229019701014, 0.10166822476641474, 0.13997357572544278, 0.11017850238797597, 0.08683510302081278, 0.1368662585387325, 0.10100481376594361, -0.10136671354198448, -0.08239047393086207, 0.08753490878545139, 0.09507095999514772, 0.11175894374875968, 0.09509710886864177, 0.10113640353436881, 0.08495874382312396, 0.10221185679677616, 0.08586229105384027, 0.09399848616496129, 0.2395703979681824, -0.08314508255320163, 0.22891813256345084, -0.11447956765389829, -0.08384876275029708, -0.12403249429970649, -0.08649020354250694, -0.09259221287151244, 0.1374585361144497, 0.15589268490366143, 0.10782837643315504, -0.10417796696890994, 0.10136927373135621, 0.08468686862010083, -0.09658628107610376, -0.08747178724289711, -0.1883824591927707, 0.08254364689453306, -0.13469606608407136, -0.08874260434396766, 0.08331491484215087, 0.10062984732524272, 0.11013243678241462, 0.09274953880785362, 0.0853511540175792, 0.11392132308601266, 0.13555354872038095, -0.09674022220467149, 0.11040151896999917, 0.08692862378768662, -0.08667725349096467, 0.10948032582642586, -0.0970369372230081, -0.13497023597586377, 0.1127618376553976, -0.09310491558849754, -0.11107391145777612, -0.08193964299033119, -0.12602252344843046, 0.10101337254906784, -0.16264877335101424, 0.08386135980781362, 0.13687171512172125, 0.09386122653502754, 0.183587578692465, -0.08888123425473454, -0.1601712545343852, 0.16865124503989692, 0.10442329369107484, -0.21990017421966251, -0.12500527241053222, 0.25036937624225863, 0.09704547690914889, -0.1468854969066853, 0.12126356818487372, -0.11212502527445412, -0.10671892833358176, -0.0941273640575031, -0.08997918288634765, -0.08203759151857704, 0.29680197613507275, -0.17755054396978742, -0.0835076263636374, 0.11056158341815742, -0.10369397740149772, -0.12073444535779504, 0.09462674478130428, 0.1228592539178957, -0.16510253269803365, -0.1089099864983046, 0.09891413663874049, 0.12115069750229646, 0.10273719784187163, -0.12889099666454612, 0.08731267157078965, -0.09933494879225746]\n",
            "Size: 108 with items: ['alpha_ec_2', 'alpha_ec_3', 'alpha_ec_5', 'alpha_ec_6', 'alpha_ec_7', 'alpha_ec_11', 'alpha_ec_12', 'alpha_ec_21', 'alpha_ec_22', 'alpha_ec_23', 'alpha_ec_31', 'alpha_ec_41', 'alpha_ec_42', 'alpha_ec_44', 'alpha_ec_45', 'alpha_ec_46', 'beta_ec_5', 'beta_ec_6', 'beta_ec_7', 'beta_ec_11', 'beta_ec_12', 'beta_ec_22', 'beta_ec_26', 'theta_ec_0', 'theta_ec_1', 'theta_ec_2', 'theta_ec_17', 'theta_ec_18', 'theta_ec_25', 'theta_ec_26', 'theta_ec_27', 'alpha_eo_2', 'alpha_eo_3', 'alpha_eo_7', 'alpha_eo_9', 'alpha_eo_10', 'alpha_eo_16', 'alpha_eo_18', 'alpha_eo_24', 'alpha_eo_31', 'alpha_eo_33', 'alpha_eo_34', 'alpha_eo_41', 'beta_eo_3', 'beta_eo_5', 'beta_eo_6', 'beta_eo_15', 'beta_eo_25', 'beta_eo_26', 'beta_eo_31', 'beta_eo_34', 'beta_eo_41', 'theta_eo_2', 'theta_eo_18', 'theta_eo_19', 'theta_eo_25', 'theta_eo_26', 'theta_eo_27', 'theta_eo_28', 'ratio_alpha_0', 'ratio_alpha_6', 'ratio_alpha_8', 'ratio_alpha_9', 'ratio_alpha_10', 'ratio_alpha_18', 'ratio_alpha_23', 'ratio_alpha_24', 'ratio_alpha_30', 'ratio_alpha_36', 'ratio_alpha_47', 'ratio_beta_3', 'ratio_beta_5', 'ratio_beta_8', 'ratio_beta_9', 'ratio_beta_11', 'ratio_beta_12', 'ratio_beta_15', 'ratio_beta_17', 'ratio_beta_18', 'ratio_beta_21', 'ratio_beta_23', 'ratio_beta_24', 'ratio_beta_25', 'ratio_beta_26', 'ratio_beta_28', 'ratio_beta_31', 'ratio_beta_34', 'ratio_beta_36', 'ratio_beta_41', 'ratio_beta_42', 'ratio_beta_44', 'ratio_beta_45', 'ratio_beta_47', 'ratio_theta_1', 'ratio_theta_4', 'ratio_theta_6', 'ratio_theta_12', 'ratio_theta_14', 'ratio_theta_15', 'ratio_theta_20', 'ratio_theta_26', 'ratio_theta_28', 'ratio_theta_30', 'ratio_theta_33', 'ratio_theta_35', 'ratio_theta_38', 'ratio_theta_40', 'ratio_theta_47']\n"
          ]
        },
        {
          "output_type": "execute_result",
          "data": {
            "text/plain": [
              "   alpha_ec_2  alpha_ec_3  alpha_ec_5  alpha_ec_6  alpha_ec_7  alpha_ec_11  \\\n",
              "0     0.12858     0.11324     0.10690     0.10756     0.11064     0.095234   \n",
              "1     0.26239     0.38009     0.28500     0.24791     0.25033     0.331230   \n",
              "2     0.38999     0.25772     0.44199     0.44004     0.39947     0.405160   \n",
              "3     0.77042     0.60161     0.72725     0.76245     0.78904     0.607760   \n",
              "4     0.14714     0.15728     0.14154     0.13228     0.12760     0.171490   \n",
              "\n",
              "   alpha_ec_12  alpha_ec_21  alpha_ec_22  alpha_ec_23  ...  ratio_theta_15  \\\n",
              "0      0.08890     0.087974     0.090929      0.12972  ...         0.60008   \n",
              "1      0.25847     0.328170     0.337920      0.27856  ...         0.81354   \n",
              "2      0.41402     0.402090     0.474890      0.39364  ...         0.56915   \n",
              "3      0.69743     0.536590     0.492700      0.35979  ...         1.79770   \n",
              "4      0.17162     0.253540     0.240370      0.20920  ...         2.11790   \n",
              "\n",
              "   ratio_theta_20  ratio_theta_26  ratio_theta_28  ratio_theta_30  \\\n",
              "0         0.47338         1.38370         0.48869         0.89434   \n",
              "1         0.50451         0.77174         1.13510         0.45386   \n",
              "2         0.62039         0.66235         0.78822         0.50153   \n",
              "3         1.68080         0.87729         1.23100         0.35169   \n",
              "4         1.25740         2.58490         1.11960         1.62580   \n",
              "\n",
              "   ratio_theta_33  ratio_theta_35  ratio_theta_38  ratio_theta_40  \\\n",
              "0         0.77878         0.51583         0.57161         0.58709   \n",
              "1         0.48172         0.70838         0.35142         0.43164   \n",
              "2         0.37280         0.51142         0.61924         1.09310   \n",
              "3         0.46294         0.75828         0.23456         0.43196   \n",
              "4         2.21460         2.12370         1.82160         1.24420   \n",
              "\n",
              "   ratio_theta_47  \n",
              "0         1.01440  \n",
              "1         0.74867  \n",
              "2         0.61417  \n",
              "3         0.85448  \n",
              "4         2.29460  \n",
              "\n",
              "[5 rows x 108 columns]"
            ],
            "text/html": [
              "\n",
              "  <div id=\"df-991379fc-740d-424a-880b-68ef786c2cf0\" class=\"colab-df-container\">\n",
              "    <div>\n",
              "<style scoped>\n",
              "    .dataframe tbody tr th:only-of-type {\n",
              "        vertical-align: middle;\n",
              "    }\n",
              "\n",
              "    .dataframe tbody tr th {\n",
              "        vertical-align: top;\n",
              "    }\n",
              "\n",
              "    .dataframe thead th {\n",
              "        text-align: right;\n",
              "    }\n",
              "</style>\n",
              "<table border=\"1\" class=\"dataframe\">\n",
              "  <thead>\n",
              "    <tr style=\"text-align: right;\">\n",
              "      <th></th>\n",
              "      <th>alpha_ec_2</th>\n",
              "      <th>alpha_ec_3</th>\n",
              "      <th>alpha_ec_5</th>\n",
              "      <th>alpha_ec_6</th>\n",
              "      <th>alpha_ec_7</th>\n",
              "      <th>alpha_ec_11</th>\n",
              "      <th>alpha_ec_12</th>\n",
              "      <th>alpha_ec_21</th>\n",
              "      <th>alpha_ec_22</th>\n",
              "      <th>alpha_ec_23</th>\n",
              "      <th>...</th>\n",
              "      <th>ratio_theta_15</th>\n",
              "      <th>ratio_theta_20</th>\n",
              "      <th>ratio_theta_26</th>\n",
              "      <th>ratio_theta_28</th>\n",
              "      <th>ratio_theta_30</th>\n",
              "      <th>ratio_theta_33</th>\n",
              "      <th>ratio_theta_35</th>\n",
              "      <th>ratio_theta_38</th>\n",
              "      <th>ratio_theta_40</th>\n",
              "      <th>ratio_theta_47</th>\n",
              "    </tr>\n",
              "  </thead>\n",
              "  <tbody>\n",
              "    <tr>\n",
              "      <th>0</th>\n",
              "      <td>0.12858</td>\n",
              "      <td>0.11324</td>\n",
              "      <td>0.10690</td>\n",
              "      <td>0.10756</td>\n",
              "      <td>0.11064</td>\n",
              "      <td>0.095234</td>\n",
              "      <td>0.08890</td>\n",
              "      <td>0.087974</td>\n",
              "      <td>0.090929</td>\n",
              "      <td>0.12972</td>\n",
              "      <td>...</td>\n",
              "      <td>0.60008</td>\n",
              "      <td>0.47338</td>\n",
              "      <td>1.38370</td>\n",
              "      <td>0.48869</td>\n",
              "      <td>0.89434</td>\n",
              "      <td>0.77878</td>\n",
              "      <td>0.51583</td>\n",
              "      <td>0.57161</td>\n",
              "      <td>0.58709</td>\n",
              "      <td>1.01440</td>\n",
              "    </tr>\n",
              "    <tr>\n",
              "      <th>1</th>\n",
              "      <td>0.26239</td>\n",
              "      <td>0.38009</td>\n",
              "      <td>0.28500</td>\n",
              "      <td>0.24791</td>\n",
              "      <td>0.25033</td>\n",
              "      <td>0.331230</td>\n",
              "      <td>0.25847</td>\n",
              "      <td>0.328170</td>\n",
              "      <td>0.337920</td>\n",
              "      <td>0.27856</td>\n",
              "      <td>...</td>\n",
              "      <td>0.81354</td>\n",
              "      <td>0.50451</td>\n",
              "      <td>0.77174</td>\n",
              "      <td>1.13510</td>\n",
              "      <td>0.45386</td>\n",
              "      <td>0.48172</td>\n",
              "      <td>0.70838</td>\n",
              "      <td>0.35142</td>\n",
              "      <td>0.43164</td>\n",
              "      <td>0.74867</td>\n",
              "    </tr>\n",
              "    <tr>\n",
              "      <th>2</th>\n",
              "      <td>0.38999</td>\n",
              "      <td>0.25772</td>\n",
              "      <td>0.44199</td>\n",
              "      <td>0.44004</td>\n",
              "      <td>0.39947</td>\n",
              "      <td>0.405160</td>\n",
              "      <td>0.41402</td>\n",
              "      <td>0.402090</td>\n",
              "      <td>0.474890</td>\n",
              "      <td>0.39364</td>\n",
              "      <td>...</td>\n",
              "      <td>0.56915</td>\n",
              "      <td>0.62039</td>\n",
              "      <td>0.66235</td>\n",
              "      <td>0.78822</td>\n",
              "      <td>0.50153</td>\n",
              "      <td>0.37280</td>\n",
              "      <td>0.51142</td>\n",
              "      <td>0.61924</td>\n",
              "      <td>1.09310</td>\n",
              "      <td>0.61417</td>\n",
              "    </tr>\n",
              "    <tr>\n",
              "      <th>3</th>\n",
              "      <td>0.77042</td>\n",
              "      <td>0.60161</td>\n",
              "      <td>0.72725</td>\n",
              "      <td>0.76245</td>\n",
              "      <td>0.78904</td>\n",
              "      <td>0.607760</td>\n",
              "      <td>0.69743</td>\n",
              "      <td>0.536590</td>\n",
              "      <td>0.492700</td>\n",
              "      <td>0.35979</td>\n",
              "      <td>...</td>\n",
              "      <td>1.79770</td>\n",
              "      <td>1.68080</td>\n",
              "      <td>0.87729</td>\n",
              "      <td>1.23100</td>\n",
              "      <td>0.35169</td>\n",
              "      <td>0.46294</td>\n",
              "      <td>0.75828</td>\n",
              "      <td>0.23456</td>\n",
              "      <td>0.43196</td>\n",
              "      <td>0.85448</td>\n",
              "    </tr>\n",
              "    <tr>\n",
              "      <th>4</th>\n",
              "      <td>0.14714</td>\n",
              "      <td>0.15728</td>\n",
              "      <td>0.14154</td>\n",
              "      <td>0.13228</td>\n",
              "      <td>0.12760</td>\n",
              "      <td>0.171490</td>\n",
              "      <td>0.17162</td>\n",
              "      <td>0.253540</td>\n",
              "      <td>0.240370</td>\n",
              "      <td>0.20920</td>\n",
              "      <td>...</td>\n",
              "      <td>2.11790</td>\n",
              "      <td>1.25740</td>\n",
              "      <td>2.58490</td>\n",
              "      <td>1.11960</td>\n",
              "      <td>1.62580</td>\n",
              "      <td>2.21460</td>\n",
              "      <td>2.12370</td>\n",
              "      <td>1.82160</td>\n",
              "      <td>1.24420</td>\n",
              "      <td>2.29460</td>\n",
              "    </tr>\n",
              "  </tbody>\n",
              "</table>\n",
              "<p>5 rows × 108 columns</p>\n",
              "</div>\n",
              "    <div class=\"colab-df-buttons\">\n",
              "\n",
              "  <div class=\"colab-df-container\">\n",
              "    <button class=\"colab-df-convert\" onclick=\"convertToInteractive('df-991379fc-740d-424a-880b-68ef786c2cf0')\"\n",
              "            title=\"Convert this dataframe to an interactive table.\"\n",
              "            style=\"display:none;\">\n",
              "\n",
              "  <svg xmlns=\"http://www.w3.org/2000/svg\" height=\"24px\" viewBox=\"0 -960 960 960\">\n",
              "    <path d=\"M120-120v-720h720v720H120Zm60-500h600v-160H180v160Zm220 220h160v-160H400v160Zm0 220h160v-160H400v160ZM180-400h160v-160H180v160Zm440 0h160v-160H620v160ZM180-180h160v-160H180v160Zm440 0h160v-160H620v160Z\"/>\n",
              "  </svg>\n",
              "    </button>\n",
              "\n",
              "  <style>\n",
              "    .colab-df-container {\n",
              "      display:flex;\n",
              "      gap: 12px;\n",
              "    }\n",
              "\n",
              "    .colab-df-convert {\n",
              "      background-color: #E8F0FE;\n",
              "      border: none;\n",
              "      border-radius: 50%;\n",
              "      cursor: pointer;\n",
              "      display: none;\n",
              "      fill: #1967D2;\n",
              "      height: 32px;\n",
              "      padding: 0 0 0 0;\n",
              "      width: 32px;\n",
              "    }\n",
              "\n",
              "    .colab-df-convert:hover {\n",
              "      background-color: #E2EBFA;\n",
              "      box-shadow: 0px 1px 2px rgba(60, 64, 67, 0.3), 0px 1px 3px 1px rgba(60, 64, 67, 0.15);\n",
              "      fill: #174EA6;\n",
              "    }\n",
              "\n",
              "    .colab-df-buttons div {\n",
              "      margin-bottom: 4px;\n",
              "    }\n",
              "\n",
              "    [theme=dark] .colab-df-convert {\n",
              "      background-color: #3B4455;\n",
              "      fill: #D2E3FC;\n",
              "    }\n",
              "\n",
              "    [theme=dark] .colab-df-convert:hover {\n",
              "      background-color: #434B5C;\n",
              "      box-shadow: 0px 1px 3px 1px rgba(0, 0, 0, 0.15);\n",
              "      filter: drop-shadow(0px 1px 2px rgba(0, 0, 0, 0.3));\n",
              "      fill: #FFFFFF;\n",
              "    }\n",
              "  </style>\n",
              "\n",
              "    <script>\n",
              "      const buttonEl =\n",
              "        document.querySelector('#df-991379fc-740d-424a-880b-68ef786c2cf0 button.colab-df-convert');\n",
              "      buttonEl.style.display =\n",
              "        google.colab.kernel.accessAllowed ? 'block' : 'none';\n",
              "\n",
              "      async function convertToInteractive(key) {\n",
              "        const element = document.querySelector('#df-991379fc-740d-424a-880b-68ef786c2cf0');\n",
              "        const dataTable =\n",
              "          await google.colab.kernel.invokeFunction('convertToInteractive',\n",
              "                                                    [key], {});\n",
              "        if (!dataTable) return;\n",
              "\n",
              "        const docLinkHtml = 'Like what you see? Visit the ' +\n",
              "          '<a target=\"_blank\" href=https://colab.research.google.com/notebooks/data_table.ipynb>data table notebook</a>'\n",
              "          + ' to learn more about interactive tables.';\n",
              "        element.innerHTML = '';\n",
              "        dataTable['output_type'] = 'display_data';\n",
              "        await google.colab.output.renderOutput(dataTable, element);\n",
              "        const docLink = document.createElement('div');\n",
              "        docLink.innerHTML = docLinkHtml;\n",
              "        element.appendChild(docLink);\n",
              "      }\n",
              "    </script>\n",
              "  </div>\n",
              "\n",
              "\n",
              "<div id=\"df-b0ce6c20-56fd-4649-bb06-025fbe16eae1\">\n",
              "  <button class=\"colab-df-quickchart\" onclick=\"quickchart('df-b0ce6c20-56fd-4649-bb06-025fbe16eae1')\"\n",
              "            title=\"Suggest charts\"\n",
              "            style=\"display:none;\">\n",
              "\n",
              "<svg xmlns=\"http://www.w3.org/2000/svg\" height=\"24px\"viewBox=\"0 0 24 24\"\n",
              "     width=\"24px\">\n",
              "    <g>\n",
              "        <path d=\"M19 3H5c-1.1 0-2 .9-2 2v14c0 1.1.9 2 2 2h14c1.1 0 2-.9 2-2V5c0-1.1-.9-2-2-2zM9 17H7v-7h2v7zm4 0h-2V7h2v10zm4 0h-2v-4h2v4z\"/>\n",
              "    </g>\n",
              "</svg>\n",
              "  </button>\n",
              "\n",
              "<style>\n",
              "  .colab-df-quickchart {\n",
              "      --bg-color: #E8F0FE;\n",
              "      --fill-color: #1967D2;\n",
              "      --hover-bg-color: #E2EBFA;\n",
              "      --hover-fill-color: #174EA6;\n",
              "      --disabled-fill-color: #AAA;\n",
              "      --disabled-bg-color: #DDD;\n",
              "  }\n",
              "\n",
              "  [theme=dark] .colab-df-quickchart {\n",
              "      --bg-color: #3B4455;\n",
              "      --fill-color: #D2E3FC;\n",
              "      --hover-bg-color: #434B5C;\n",
              "      --hover-fill-color: #FFFFFF;\n",
              "      --disabled-bg-color: #3B4455;\n",
              "      --disabled-fill-color: #666;\n",
              "  }\n",
              "\n",
              "  .colab-df-quickchart {\n",
              "    background-color: var(--bg-color);\n",
              "    border: none;\n",
              "    border-radius: 50%;\n",
              "    cursor: pointer;\n",
              "    display: none;\n",
              "    fill: var(--fill-color);\n",
              "    height: 32px;\n",
              "    padding: 0;\n",
              "    width: 32px;\n",
              "  }\n",
              "\n",
              "  .colab-df-quickchart:hover {\n",
              "    background-color: var(--hover-bg-color);\n",
              "    box-shadow: 0 1px 2px rgba(60, 64, 67, 0.3), 0 1px 3px 1px rgba(60, 64, 67, 0.15);\n",
              "    fill: var(--button-hover-fill-color);\n",
              "  }\n",
              "\n",
              "  .colab-df-quickchart-complete:disabled,\n",
              "  .colab-df-quickchart-complete:disabled:hover {\n",
              "    background-color: var(--disabled-bg-color);\n",
              "    fill: var(--disabled-fill-color);\n",
              "    box-shadow: none;\n",
              "  }\n",
              "\n",
              "  .colab-df-spinner {\n",
              "    border: 2px solid var(--fill-color);\n",
              "    border-color: transparent;\n",
              "    border-bottom-color: var(--fill-color);\n",
              "    animation:\n",
              "      spin 1s steps(1) infinite;\n",
              "  }\n",
              "\n",
              "  @keyframes spin {\n",
              "    0% {\n",
              "      border-color: transparent;\n",
              "      border-bottom-color: var(--fill-color);\n",
              "      border-left-color: var(--fill-color);\n",
              "    }\n",
              "    20% {\n",
              "      border-color: transparent;\n",
              "      border-left-color: var(--fill-color);\n",
              "      border-top-color: var(--fill-color);\n",
              "    }\n",
              "    30% {\n",
              "      border-color: transparent;\n",
              "      border-left-color: var(--fill-color);\n",
              "      border-top-color: var(--fill-color);\n",
              "      border-right-color: var(--fill-color);\n",
              "    }\n",
              "    40% {\n",
              "      border-color: transparent;\n",
              "      border-right-color: var(--fill-color);\n",
              "      border-top-color: var(--fill-color);\n",
              "    }\n",
              "    60% {\n",
              "      border-color: transparent;\n",
              "      border-right-color: var(--fill-color);\n",
              "    }\n",
              "    80% {\n",
              "      border-color: transparent;\n",
              "      border-right-color: var(--fill-color);\n",
              "      border-bottom-color: var(--fill-color);\n",
              "    }\n",
              "    90% {\n",
              "      border-color: transparent;\n",
              "      border-bottom-color: var(--fill-color);\n",
              "    }\n",
              "  }\n",
              "</style>\n",
              "\n",
              "  <script>\n",
              "    async function quickchart(key) {\n",
              "      const quickchartButtonEl =\n",
              "        document.querySelector('#' + key + ' button');\n",
              "      quickchartButtonEl.disabled = true;  // To prevent multiple clicks.\n",
              "      quickchartButtonEl.classList.add('colab-df-spinner');\n",
              "      try {\n",
              "        const charts = await google.colab.kernel.invokeFunction(\n",
              "            'suggestCharts', [key], {});\n",
              "      } catch (error) {\n",
              "        console.error('Error during call to suggestCharts:', error);\n",
              "      }\n",
              "      quickchartButtonEl.classList.remove('colab-df-spinner');\n",
              "      quickchartButtonEl.classList.add('colab-df-quickchart-complete');\n",
              "    }\n",
              "    (() => {\n",
              "      let quickchartButtonEl =\n",
              "        document.querySelector('#df-b0ce6c20-56fd-4649-bb06-025fbe16eae1 button');\n",
              "      quickchartButtonEl.style.display =\n",
              "        google.colab.kernel.accessAllowed ? 'block' : 'none';\n",
              "    })();\n",
              "  </script>\n",
              "</div>\n",
              "    </div>\n",
              "  </div>\n"
            ]
          },
          "metadata": {},
          "execution_count": 43
        }
      ]
    },
    {
      "cell_type": "code",
      "source": [
        "def drop_worst_feature(names, coefs, df):\n",
        "  abs_coefs = [abs(cof) for cof in coefs]\n",
        "  worst_feature = new_feature_names[abs_coefs.index(min(abs_coefs))]\n",
        "  worst_feature_index = abs_coefs.index(min(abs_coefs))\n",
        "  new_df = df.drop([worst_feature],axis=1)\n",
        "  names.pop(worst_feature_index)\n",
        "  coefs.pop(worst_feature_index)\n",
        "  print(f\"{worst_feature} was removed\")\n",
        "\n",
        "  return new_df, coefs, names\n",
        "\n"
      ],
      "metadata": {
        "id": "JkEiZLSwMG9-"
      },
      "execution_count": null,
      "outputs": []
    },
    {
      "cell_type": "code",
      "source": [
        "def print_classification_report(y_pred, y_true, labels):\n",
        "  print(classification_report(y_true, y_pred, labels))\n"
      ],
      "metadata": {
        "id": "gEndmMJeyWce"
      },
      "execution_count": null,
      "outputs": []
    },
    {
      "cell_type": "code",
      "source": [
        "# SVM\n",
        "# output the base score with all features\n",
        "# loop through new features eliminating them until there is only 25 left\n",
        "# or there is decrease in accuracy\n",
        "\n",
        "\n",
        "# Creates the groups for the leave one out cross validation\n",
        "groups = np.repeat(np.arange(len(emb_data)//10), 10)\n",
        "logo = LeaveOneGroupOut()\n",
        "\n",
        "# CV score with all features\n",
        "base_svm = SVC(kernel='linear', C=1)\n",
        "base_svm.fit(emb_data, emb_labels)\n",
        "base_cv_scores = cross_val_score(base_svm, emb_data, np.ravel(emb_labels), cv=logo.split(emb_data, emb_labels, groups), error_score='raise')\n",
        "print(f\"The mean leave-one-out score for all features is: {base_cv_scores.mean()}\")\n",
        "\n",
        "# CV scores with top 25% of features\n",
        "q75_svm = SVC(kernel='linear', C=1)\n",
        "q75_svm.fit(q75_df, emb_labels)\n",
        "q_75_cv_scores = cross_val_score(q75_svm, q75_df, np.ravel(emb_labels), cv=logo.split(q75_df, emb_labels, groups), error_score='raise')\n",
        "print(f\"The mean leave-one-out score for the top 75th quantile features is: {q_75_cv_scores.mean()}\")\n",
        "\n",
        "\n",
        "\n",
        "test_df = q75_df.copy()\n",
        "\n",
        "fet_names = new_feature_names\n",
        "test_coefs = new_coefs\n",
        "\n",
        "old_mean = base_cv_scores.mean()\n",
        "new_mean = q_75_cv_scores.mean()\n",
        "\n",
        "iteration = 0\n",
        "\n",
        "while True:\n",
        "  if iteration == 0:\n",
        "      df, updated_coeficients, updated_feature_names = drop_worst_feature(fet_names, test_coefs, test_df)\n",
        "      clf = SVC(kernel= 'linear', C=1)\n",
        "      clf.fit(df, emb_labels)\n",
        "      new_mean = cross_val_score(clf, df, np.ravel(emb_labels), cv=logo.split(df, emb_labels, groups), error_score='raise').mean()\n",
        "      iteration +=1\n",
        "      print('first iteration done')\n",
        "      print(f\"There are {len(updated_feature_names)} left and the CV score is {new_mean}\")\n",
        "\n",
        "  else:\n",
        "    saved_features = updated_feature_names\n",
        "    new_df, new_updated_coeficients, new_updated_feature_names = drop_worst_feature(updated_feature_names, updated_coeficients, df)\n",
        "    df, updated_coeficients, updated_feature_names = new_df, new_updated_coeficients, new_updated_feature_names\n",
        "    clf = SVC(kernel='linear', C=1)\n",
        "    clf.fit(df, emb_labels )\n",
        "    new_mean = cross_val_score(clf, df, np.ravel(emb_labels), cv=logo.split(df, emb_labels, groups), error_score='raise').mean()\n",
        "    if old_mean > new_mean:\n",
        "      break\n",
        "    else:\n",
        "        old_mean = new_mean\n",
        "    print(f\"There are {len(new_feature_names)} left and the CV score is {new_mean}\")\n",
        "\n",
        "print(\"\\n\\n\")\n",
        "print(f\"The highest cross validation score is {round(old_mean,4)} with the following {len(saved_features)} features being used:\")\n",
        "print(saved_features)\n",
        "\n",
        "x_train, x_test, y_train, y_test = train_test_split(df[saved_features], emb_labels, test_size=0.1)\n",
        "\n",
        "best_clf = SVC(kernel='linear', C=1)\n",
        "clf.fit(x_train, y_train)\n",
        "y_pred = clf.predict(x_test)\n",
        "print('\\n\\n',classification_report(y_test, y_pred))\n"
      ],
      "metadata": {
        "id": "atydU8XwJM3u"
      },
      "execution_count": null,
      "outputs": []
    },
    {
      "cell_type": "code",
      "source": [
        "# K Nearest Neihbour\n",
        "\n",
        "\n",
        "# Creates the groups for the leave one out cross validation\n",
        "groups = np.repeat(np.arange(len(emb_data)//10), 10)\n",
        "logo = LeaveOneGroupOut()\n",
        "\n",
        "# CV score with all features\n",
        "base_knn = KNeighborsClassifier(n_neighbors=5)\n",
        "base_knn.fit(emb_data, emb_labels)\n",
        "base_cv_scores = cross_val_score(base_knn, emb_data, np.ravel(emb_labels), cv=logo.split(emb_data, emb_labels, groups), error_score='raise')\n",
        "print(f\"The mean leave-one-out score for all features is: {base_cv_scores.mean()}\")\n",
        "\n",
        "# CV scores with top 25% of features\n",
        "q75_knn = KNeighborsClassifier(n_neighbors=5)\n",
        "q75_knn.fit(q75_df, emb_labels)\n",
        "q_75_cv_scores = cross_val_score(q75_knn, q75_df, np.ravel(emb_labels), cv=logo.split(q75_df, emb_labels, groups), error_score='raise')\n",
        "print(f\"The mean leave-one-out score for the top 75th quantile features is: {q_75_cv_scores.mean()}\")\n",
        "\n",
        "\n",
        "\n",
        "test_df = q75_df.copy()\n",
        "\n",
        "fet_names = new_feature_names\n",
        "test_coefs = new_coefs\n",
        "\n",
        "old_mean = base_cv_scores.mean()\n",
        "new_mean = q_75_cv_scores.mean()\n",
        "\n",
        "iteration = 0\n",
        "\n",
        "while True:\n",
        "  if iteration == 0:\n",
        "      df, updated_coeficients, updated_feature_names = drop_worst_feature(fet_names, test_coefs, test_df)\n",
        "      clf = KNeighborsClassifier(n_neighbors=5)\n",
        "      clf.fit(df, emb_labels)\n",
        "      new_mean = cross_val_score(clf, df, np.ravel(emb_labels), cv=logo.split(df, emb_labels, groups), error_score='raise').mean()\n",
        "      iteration +=1\n",
        "      print('first iteration done')\n",
        "  else:\n",
        "    saved_features = updated_feature_names\n",
        "    new_df, new_updated_coeficients, new_updated_feature_names = drop_worst_feature(updated_feature_names, updated_coeficients, df)\n",
        "    df, updated_coeficients, updated_feature_names = new_df, new_updated_coeficients, new_updated_feature_names\n",
        "    clf = KNeighborsClassifier(n_neighbors=5)\n",
        "    clf.fit(df, emb_labels )\n",
        "    new_mean = cross_val_score(clf, df, np.ravel(emb_labels), cv=logo.split(df, emb_labels, groups), error_score='raise').mean()\n",
        "    if old_mean > new_mean:\n",
        "      break\n",
        "    else:\n",
        "        old_mean = new_mean\n",
        "    print(f\"There are {len(new_feature_names)} left and the CV score is {new_mean}\")\n",
        "\n",
        "print(\"\\n\\n\")\n",
        "print(f\"The highest cross validation score is {round(old_mean,4)} with the following {len(saved_features)} features being used:\")\n",
        "print(saved_features)\n",
        "\n",
        "\n",
        "x_train, x_test, y_train, y_test = train_test_split(df[saved_features], emb_labels, test_size=0.1)\n",
        "\n",
        "best_clf =KNeighborsClassifier(n_neighbors=5)\n",
        "clf.fit(x_train, y_train)\n",
        "y_pred = clf.predict(x_test)\n",
        "print('\\n\\n',classification_report(y_test, y_pred))\n"
      ],
      "metadata": {
        "id": "hBAmEV_UK_GQ",
        "colab": {
          "base_uri": "https://localhost:8080/"
        },
        "outputId": "9297113a-4297-469f-a1c5-5d2442d28557"
      },
      "execution_count": null,
      "outputs": [
        {
          "output_type": "stream",
          "name": "stderr",
          "text": [
            "/usr/local/lib/python3.10/dist-packages/sklearn/neighbors/_classification.py:215: DataConversionWarning: A column-vector y was passed when a 1d array was expected. Please change the shape of y to (n_samples,), for example using ravel().\n",
            "  return self._fit(X, y)\n"
          ]
        },
        {
          "output_type": "stream",
          "name": "stdout",
          "text": [
            "The mean leave-one-out score for all features is: 0.6888888888888889\n",
            "The mean leave-one-out score for the top 75th quantile features is: 0.7444444444444445\n",
            "ratio_alpha_47 was removed\n"
          ]
        },
        {
          "output_type": "stream",
          "name": "stderr",
          "text": [
            "/usr/local/lib/python3.10/dist-packages/sklearn/neighbors/_classification.py:215: DataConversionWarning: A column-vector y was passed when a 1d array was expected. Please change the shape of y to (n_samples,), for example using ravel().\n",
            "  return self._fit(X, y)\n",
            "/usr/local/lib/python3.10/dist-packages/sklearn/neighbors/_classification.py:215: DataConversionWarning: A column-vector y was passed when a 1d array was expected. Please change the shape of y to (n_samples,), for example using ravel().\n",
            "  return self._fit(X, y)\n"
          ]
        },
        {
          "output_type": "stream",
          "name": "stdout",
          "text": [
            "first iteration done\n",
            "ratio_beta_45 was removed\n",
            "There are 106 left and the CV score is 0.7444444444444445\n",
            "alpha_ec_7 was removed\n"
          ]
        },
        {
          "output_type": "stream",
          "name": "stderr",
          "text": [
            "/usr/local/lib/python3.10/dist-packages/sklearn/neighbors/_classification.py:215: DataConversionWarning: A column-vector y was passed when a 1d array was expected. Please change the shape of y to (n_samples,), for example using ravel().\n",
            "  return self._fit(X, y)\n",
            "/usr/local/lib/python3.10/dist-packages/sklearn/neighbors/_classification.py:215: DataConversionWarning: A column-vector y was passed when a 1d array was expected. Please change the shape of y to (n_samples,), for example using ravel().\n",
            "  return self._fit(X, y)\n"
          ]
        },
        {
          "output_type": "stream",
          "name": "stdout",
          "text": [
            "There are 105 left and the CV score is 0.7444444444444445\n",
            "beta_ec_26 was removed\n",
            "There are 104 left and the CV score is 0.7444444444444445\n",
            "beta_eo_31 was removed\n"
          ]
        },
        {
          "output_type": "stream",
          "name": "stderr",
          "text": [
            "/usr/local/lib/python3.10/dist-packages/sklearn/neighbors/_classification.py:215: DataConversionWarning: A column-vector y was passed when a 1d array was expected. Please change the shape of y to (n_samples,), for example using ravel().\n",
            "  return self._fit(X, y)\n",
            "/usr/local/lib/python3.10/dist-packages/sklearn/neighbors/_classification.py:215: DataConversionWarning: A column-vector y was passed when a 1d array was expected. Please change the shape of y to (n_samples,), for example using ravel().\n",
            "  return self._fit(X, y)\n"
          ]
        },
        {
          "output_type": "stream",
          "name": "stdout",
          "text": [
            "There are 103 left and the CV score is 0.7444444444444445\n",
            "alpha_eo_7 was removed\n",
            "There are 102 left and the CV score is 0.7444444444444445\n",
            "theta_eo_2 was removed\n"
          ]
        },
        {
          "output_type": "stream",
          "name": "stderr",
          "text": [
            "/usr/local/lib/python3.10/dist-packages/sklearn/neighbors/_classification.py:215: DataConversionWarning: A column-vector y was passed when a 1d array was expected. Please change the shape of y to (n_samples,), for example using ravel().\n",
            "  return self._fit(X, y)\n",
            "/usr/local/lib/python3.10/dist-packages/sklearn/neighbors/_classification.py:215: DataConversionWarning: A column-vector y was passed when a 1d array was expected. Please change the shape of y to (n_samples,), for example using ravel().\n",
            "  return self._fit(X, y)\n"
          ]
        },
        {
          "output_type": "stream",
          "name": "stdout",
          "text": [
            "There are 101 left and the CV score is 0.7444444444444445\n",
            "ratio_theta_4 was removed\n",
            "There are 100 left and the CV score is 0.7444444444444445\n",
            "alpha_eo_16 was removed\n"
          ]
        },
        {
          "output_type": "stream",
          "name": "stderr",
          "text": [
            "/usr/local/lib/python3.10/dist-packages/sklearn/neighbors/_classification.py:215: DataConversionWarning: A column-vector y was passed when a 1d array was expected. Please change the shape of y to (n_samples,), for example using ravel().\n",
            "  return self._fit(X, y)\n",
            "/usr/local/lib/python3.10/dist-packages/sklearn/neighbors/_classification.py:215: DataConversionWarning: A column-vector y was passed when a 1d array was expected. Please change the shape of y to (n_samples,), for example using ravel().\n",
            "  return self._fit(X, y)\n"
          ]
        },
        {
          "output_type": "stream",
          "name": "stdout",
          "text": [
            "\n",
            "\n",
            "\n",
            "The highest cross validation score is 0.7444 with the following 99 features being used:\n",
            "['alpha_ec_2', 'alpha_ec_3', 'alpha_ec_5', 'alpha_ec_6', 'alpha_ec_11', 'alpha_ec_12', 'alpha_ec_21', 'alpha_ec_22', 'alpha_ec_23', 'alpha_ec_31', 'alpha_ec_41', 'alpha_ec_42', 'alpha_ec_44', 'alpha_ec_45', 'alpha_ec_46', 'beta_ec_5', 'beta_ec_6', 'beta_ec_7', 'beta_ec_11', 'beta_ec_12', 'beta_ec_22', 'theta_ec_0', 'theta_ec_1', 'theta_ec_2', 'theta_ec_17', 'theta_ec_18', 'theta_ec_25', 'theta_ec_26', 'theta_ec_27', 'alpha_eo_2', 'alpha_eo_3', 'alpha_eo_9', 'alpha_eo_10', 'alpha_eo_18', 'alpha_eo_24', 'alpha_eo_31', 'alpha_eo_33', 'alpha_eo_34', 'alpha_eo_41', 'beta_eo_3', 'beta_eo_5', 'beta_eo_6', 'beta_eo_15', 'beta_eo_25', 'beta_eo_26', 'beta_eo_34', 'beta_eo_41', 'theta_eo_18', 'theta_eo_19', 'theta_eo_25', 'theta_eo_26', 'theta_eo_27', 'theta_eo_28', 'ratio_alpha_0', 'ratio_alpha_6', 'ratio_alpha_8', 'ratio_alpha_9', 'ratio_alpha_10', 'ratio_alpha_18', 'ratio_alpha_23', 'ratio_alpha_24', 'ratio_alpha_30', 'ratio_alpha_36', 'ratio_beta_3', 'ratio_beta_5', 'ratio_beta_8', 'ratio_beta_9', 'ratio_beta_11', 'ratio_beta_12', 'ratio_beta_15', 'ratio_beta_17', 'ratio_beta_18', 'ratio_beta_21', 'ratio_beta_23', 'ratio_beta_24', 'ratio_beta_25', 'ratio_beta_26', 'ratio_beta_28', 'ratio_beta_31', 'ratio_beta_34', 'ratio_beta_36', 'ratio_beta_41', 'ratio_beta_42', 'ratio_beta_44', 'ratio_beta_47', 'ratio_theta_1', 'ratio_theta_6', 'ratio_theta_12', 'ratio_theta_14', 'ratio_theta_15', 'ratio_theta_20', 'ratio_theta_26', 'ratio_theta_28', 'ratio_theta_30', 'ratio_theta_33', 'ratio_theta_35', 'ratio_theta_38', 'ratio_theta_40', 'ratio_theta_47']\n",
            "\n",
            "\n",
            "               precision    recall  f1-score   support\n",
            "\n",
            "         0.0       0.73      0.73      0.73        11\n",
            "         1.0       0.57      0.57      0.57         7\n",
            "\n",
            "    accuracy                           0.67        18\n",
            "   macro avg       0.65      0.65      0.65        18\n",
            "weighted avg       0.67      0.67      0.67        18\n",
            "\n"
          ]
        },
        {
          "output_type": "stream",
          "name": "stderr",
          "text": [
            "/usr/local/lib/python3.10/dist-packages/sklearn/neighbors/_classification.py:215: DataConversionWarning: A column-vector y was passed when a 1d array was expected. Please change the shape of y to (n_samples,), for example using ravel().\n",
            "  return self._fit(X, y)\n"
          ]
        }
      ]
    },
    {
      "cell_type": "code",
      "source": [
        "# Random Forest Classifier\n",
        "rf_clf = RandomForestClassifier(n_estimators=100, random_state=42)\n",
        "\n",
        "groups = np.repeat(np.arange(len(emb_data)//10), 10)\n",
        "logo = LeaveOneGroupOut()\n",
        "\n",
        "# CV score with all features\n",
        "base_rf = RandomForestClassifier(n_estimators=100, random_state=42)\n",
        "base_rf.fit(emb_data, emb_labels)\n",
        "base_cv_scores = cross_val_score(base_rf, emb_data, np.ravel(emb_labels), cv=logo.split(emb_data, emb_labels, groups), error_score='raise')\n",
        "print(f\"The mean leave-one-out score for all features is: {base_cv_scores.mean()}\")\n",
        "\n",
        "# CV scores with top 25% of features\n",
        "q75_rf = RandomForestClassifier(n_estimators=100, random_state=42)\n",
        "q75_rf.fit(q75_df, emb_labels)\n",
        "q_75_cv_scores = cross_val_score(q75_rf, q75_df, np.ravel(emb_labels), cv=logo.split(q75_df, emb_labels, groups), error_score='raise')\n",
        "print(f\"The mean leave-one-out score for the top 75th quantile features is: {q_75_cv_scores.mean()}\")\n",
        "\n",
        "\n",
        "\n",
        "test_df = q75_df.copy()\n",
        "\n",
        "fet_names = new_feature_names\n",
        "test_coefs = new_coefs\n",
        "\n",
        "old_mean = base_cv_scores.mean()\n",
        "new_mean = q_75_cv_scores.mean()\n",
        "\n",
        "iteration = 0\n",
        "\n",
        "while True:\n",
        "  if iteration == 0:\n",
        "      df, updated_coeficients, updated_feature_names = drop_worst_feature(fet_names, test_coefs, test_df)\n",
        "      clf = RandomForestClassifier(n_estimators=100, random_state=42)\n",
        "      clf.fit(df, emb_labels)\n",
        "      new_mean = cross_val_score(clf, df, np.ravel(emb_labels), cv=logo.split(df, emb_labels, groups), error_score='raise').mean()\n",
        "      iteration +=1\n",
        "      print('first iteration done')\n",
        "  else:\n",
        "    saved_features = updated_feature_names\n",
        "    new_df, new_updated_coeficients, new_updated_feature_names = drop_worst_feature(updated_feature_names, updated_coeficients, df)\n",
        "    df, updated_coeficients, updated_feature_names = new_df, new_updated_coeficients, new_updated_feature_names\n",
        "    clf = RandomForestClassifier(n_estimators=100, random_state=42)\n",
        "    clf.fit(df, emb_labels )\n",
        "    new_mean = cross_val_score(clf, df, np.ravel(emb_labels), cv=logo.split(df, emb_labels, groups), error_score='raise').mean()\n",
        "    if old_mean - new_mean > (old_mean * 0.049):\n",
        "      break\n",
        "    else:\n",
        "        old_mean = new_mean\n",
        "\n",
        "    print(f\"There are {len(new_feature_names)} left and the CV score is {new_mean}\")\n",
        "\n",
        "print(\"\\n\\n\")\n",
        "print(f\"The highest cross validation score is {round(old_mean,4)} with the following {len(saved_features)} features being used:\")\n",
        "print(saved_features)\n",
        "\n",
        "x_train, x_test, y_train, y_test = train_test_split(df[saved_features], emb_labels, test_size=0.1)\n",
        "\n",
        "best_clf =RandomForestClassifier(n_estimators=100, random_state=42)\n",
        "clf.fit(x_train, y_train)\n",
        "y_pred = clf.predict(x_test)\n",
        "print('\\n\\n',classification_report(y_test, y_pred))"
      ],
      "metadata": {
        "id": "BWhkPprvK_KJ",
        "colab": {
          "base_uri": "https://localhost:8080/"
        },
        "outputId": "d21818a6-bfc5-45ff-c7ca-9e47f26eeb9f"
      },
      "execution_count": null,
      "outputs": [
        {
          "output_type": "stream",
          "name": "stderr",
          "text": [
            "<ipython-input-44-e03a34ffa26c>:9: DataConversionWarning: A column-vector y was passed when a 1d array was expected. Please change the shape of y to (n_samples,), for example using ravel().\n",
            "  base_rf.fit(emb_data, emb_labels)\n"
          ]
        },
        {
          "output_type": "stream",
          "name": "stdout",
          "text": [
            "The mean leave-one-out score for all features is: 0.8222222222222223\n"
          ]
        },
        {
          "output_type": "stream",
          "name": "stderr",
          "text": [
            "<ipython-input-44-e03a34ffa26c>:15: DataConversionWarning: A column-vector y was passed when a 1d array was expected. Please change the shape of y to (n_samples,), for example using ravel().\n",
            "  q75_rf.fit(q75_df, emb_labels)\n"
          ]
        },
        {
          "output_type": "stream",
          "name": "stdout",
          "text": [
            "The mean leave-one-out score for the top 75th quantile features is: 0.8388888888888889\n",
            "ratio_alpha_47 was removed\n"
          ]
        },
        {
          "output_type": "stream",
          "name": "stderr",
          "text": [
            "<ipython-input-44-e03a34ffa26c>:35: DataConversionWarning: A column-vector y was passed when a 1d array was expected. Please change the shape of y to (n_samples,), for example using ravel().\n",
            "  clf.fit(df, emb_labels)\n"
          ]
        },
        {
          "output_type": "stream",
          "name": "stdout",
          "text": [
            "first iteration done\n",
            "ratio_beta_45 was removed\n"
          ]
        },
        {
          "output_type": "stream",
          "name": "stderr",
          "text": [
            "<ipython-input-44-e03a34ffa26c>:44: DataConversionWarning: A column-vector y was passed when a 1d array was expected. Please change the shape of y to (n_samples,), for example using ravel().\n",
            "  clf.fit(df, emb_labels )\n"
          ]
        },
        {
          "output_type": "stream",
          "name": "stdout",
          "text": [
            "There are 106 left and the CV score is 0.8388888888888889\n",
            "alpha_ec_7 was removed\n"
          ]
        },
        {
          "output_type": "stream",
          "name": "stderr",
          "text": [
            "<ipython-input-44-e03a34ffa26c>:44: DataConversionWarning: A column-vector y was passed when a 1d array was expected. Please change the shape of y to (n_samples,), for example using ravel().\n",
            "  clf.fit(df, emb_labels )\n"
          ]
        },
        {
          "output_type": "stream",
          "name": "stdout",
          "text": [
            "There are 105 left and the CV score is 0.8\n",
            "beta_ec_26 was removed\n"
          ]
        },
        {
          "output_type": "stream",
          "name": "stderr",
          "text": [
            "<ipython-input-44-e03a34ffa26c>:44: DataConversionWarning: A column-vector y was passed when a 1d array was expected. Please change the shape of y to (n_samples,), for example using ravel().\n",
            "  clf.fit(df, emb_labels )\n"
          ]
        },
        {
          "output_type": "stream",
          "name": "stdout",
          "text": [
            "There are 104 left and the CV score is 0.8277777777777778\n",
            "beta_eo_31 was removed\n"
          ]
        },
        {
          "output_type": "stream",
          "name": "stderr",
          "text": [
            "<ipython-input-44-e03a34ffa26c>:44: DataConversionWarning: A column-vector y was passed when a 1d array was expected. Please change the shape of y to (n_samples,), for example using ravel().\n",
            "  clf.fit(df, emb_labels )\n"
          ]
        },
        {
          "output_type": "stream",
          "name": "stdout",
          "text": [
            "There are 103 left and the CV score is 0.8333333333333334\n",
            "alpha_eo_7 was removed\n"
          ]
        },
        {
          "output_type": "stream",
          "name": "stderr",
          "text": [
            "<ipython-input-44-e03a34ffa26c>:44: DataConversionWarning: A column-vector y was passed when a 1d array was expected. Please change the shape of y to (n_samples,), for example using ravel().\n",
            "  clf.fit(df, emb_labels )\n"
          ]
        },
        {
          "output_type": "stream",
          "name": "stdout",
          "text": [
            "There are 102 left and the CV score is 0.838888888888889\n",
            "theta_eo_2 was removed\n"
          ]
        },
        {
          "output_type": "stream",
          "name": "stderr",
          "text": [
            "<ipython-input-44-e03a34ffa26c>:44: DataConversionWarning: A column-vector y was passed when a 1d array was expected. Please change the shape of y to (n_samples,), for example using ravel().\n",
            "  clf.fit(df, emb_labels )\n"
          ]
        },
        {
          "output_type": "stream",
          "name": "stdout",
          "text": [
            "There are 101 left and the CV score is 0.8333333333333335\n",
            "ratio_theta_4 was removed\n"
          ]
        },
        {
          "output_type": "stream",
          "name": "stderr",
          "text": [
            "<ipython-input-44-e03a34ffa26c>:44: DataConversionWarning: A column-vector y was passed when a 1d array was expected. Please change the shape of y to (n_samples,), for example using ravel().\n",
            "  clf.fit(df, emb_labels )\n"
          ]
        },
        {
          "output_type": "stream",
          "name": "stdout",
          "text": [
            "There are 100 left and the CV score is 0.8166666666666668\n",
            "alpha_eo_16 was removed\n"
          ]
        },
        {
          "output_type": "stream",
          "name": "stderr",
          "text": [
            "<ipython-input-44-e03a34ffa26c>:44: DataConversionWarning: A column-vector y was passed when a 1d array was expected. Please change the shape of y to (n_samples,), for example using ravel().\n",
            "  clf.fit(df, emb_labels )\n"
          ]
        },
        {
          "output_type": "stream",
          "name": "stdout",
          "text": [
            "There are 99 left and the CV score is 0.838888888888889\n",
            "ratio_beta_9 was removed\n"
          ]
        },
        {
          "output_type": "stream",
          "name": "stderr",
          "text": [
            "<ipython-input-44-e03a34ffa26c>:44: DataConversionWarning: A column-vector y was passed when a 1d array was expected. Please change the shape of y to (n_samples,), for example using ravel().\n",
            "  clf.fit(df, emb_labels )\n"
          ]
        },
        {
          "output_type": "stream",
          "name": "stdout",
          "text": [
            "There are 98 left and the CV score is 0.827777777777778\n",
            "beta_eo_6 was removed\n"
          ]
        },
        {
          "output_type": "stream",
          "name": "stderr",
          "text": [
            "<ipython-input-44-e03a34ffa26c>:44: DataConversionWarning: A column-vector y was passed when a 1d array was expected. Please change the shape of y to (n_samples,), for example using ravel().\n",
            "  clf.fit(df, emb_labels )\n"
          ]
        },
        {
          "output_type": "stream",
          "name": "stdout",
          "text": [
            "There are 97 left and the CV score is 0.7944444444444445\n",
            "theta_ec_25 was removed\n"
          ]
        },
        {
          "output_type": "stream",
          "name": "stderr",
          "text": [
            "<ipython-input-44-e03a34ffa26c>:44: DataConversionWarning: A column-vector y was passed when a 1d array was expected. Please change the shape of y to (n_samples,), for example using ravel().\n",
            "  clf.fit(df, emb_labels )\n"
          ]
        },
        {
          "output_type": "stream",
          "name": "stdout",
          "text": [
            "There are 96 left and the CV score is 0.8500000000000001\n",
            "theta_eo_26 was removed\n"
          ]
        },
        {
          "output_type": "stream",
          "name": "stderr",
          "text": [
            "<ipython-input-44-e03a34ffa26c>:44: DataConversionWarning: A column-vector y was passed when a 1d array was expected. Please change the shape of y to (n_samples,), for example using ravel().\n",
            "  clf.fit(df, emb_labels )\n"
          ]
        },
        {
          "output_type": "stream",
          "name": "stdout",
          "text": [
            "There are 95 left and the CV score is 0.8222222222222224\n",
            "alpha_ec_23 was removed\n"
          ]
        },
        {
          "output_type": "stream",
          "name": "stderr",
          "text": [
            "<ipython-input-44-e03a34ffa26c>:44: DataConversionWarning: A column-vector y was passed when a 1d array was expected. Please change the shape of y to (n_samples,), for example using ravel().\n",
            "  clf.fit(df, emb_labels )\n"
          ]
        },
        {
          "output_type": "stream",
          "name": "stdout",
          "text": [
            "There are 94 left and the CV score is 0.8500000000000001\n",
            "theta_ec_27 was removed\n"
          ]
        },
        {
          "output_type": "stream",
          "name": "stderr",
          "text": [
            "<ipython-input-44-e03a34ffa26c>:44: DataConversionWarning: A column-vector y was passed when a 1d array was expected. Please change the shape of y to (n_samples,), for example using ravel().\n",
            "  clf.fit(df, emb_labels )\n"
          ]
        },
        {
          "output_type": "stream",
          "name": "stdout",
          "text": [
            "\n",
            "\n",
            "\n",
            "The highest cross validation score is 0.85 with the following 93 features being used:\n",
            "['alpha_ec_2', 'alpha_ec_3', 'alpha_ec_5', 'alpha_ec_6', 'alpha_ec_11', 'alpha_ec_12', 'alpha_ec_21', 'alpha_ec_22', 'alpha_ec_31', 'alpha_ec_41', 'alpha_ec_42', 'alpha_ec_44', 'alpha_ec_45', 'alpha_ec_46', 'beta_ec_5', 'beta_ec_6', 'beta_ec_7', 'beta_ec_11', 'beta_ec_12', 'beta_ec_22', 'theta_ec_0', 'theta_ec_1', 'theta_ec_2', 'theta_ec_17', 'theta_ec_18', 'theta_ec_26', 'alpha_eo_2', 'alpha_eo_3', 'alpha_eo_9', 'alpha_eo_10', 'alpha_eo_18', 'alpha_eo_24', 'alpha_eo_31', 'alpha_eo_33', 'alpha_eo_34', 'alpha_eo_41', 'beta_eo_3', 'beta_eo_5', 'beta_eo_15', 'beta_eo_25', 'beta_eo_26', 'beta_eo_34', 'beta_eo_41', 'theta_eo_18', 'theta_eo_19', 'theta_eo_25', 'theta_eo_27', 'theta_eo_28', 'ratio_alpha_0', 'ratio_alpha_6', 'ratio_alpha_8', 'ratio_alpha_9', 'ratio_alpha_10', 'ratio_alpha_18', 'ratio_alpha_23', 'ratio_alpha_24', 'ratio_alpha_30', 'ratio_alpha_36', 'ratio_beta_3', 'ratio_beta_5', 'ratio_beta_8', 'ratio_beta_11', 'ratio_beta_12', 'ratio_beta_15', 'ratio_beta_17', 'ratio_beta_18', 'ratio_beta_21', 'ratio_beta_23', 'ratio_beta_24', 'ratio_beta_25', 'ratio_beta_26', 'ratio_beta_28', 'ratio_beta_31', 'ratio_beta_34', 'ratio_beta_36', 'ratio_beta_41', 'ratio_beta_42', 'ratio_beta_44', 'ratio_beta_47', 'ratio_theta_1', 'ratio_theta_6', 'ratio_theta_12', 'ratio_theta_14', 'ratio_theta_15', 'ratio_theta_20', 'ratio_theta_26', 'ratio_theta_28', 'ratio_theta_30', 'ratio_theta_33', 'ratio_theta_35', 'ratio_theta_38', 'ratio_theta_40', 'ratio_theta_47']\n"
          ]
        },
        {
          "output_type": "stream",
          "name": "stderr",
          "text": [
            "<ipython-input-44-e03a34ffa26c>:60: DataConversionWarning: A column-vector y was passed when a 1d array was expected. Please change the shape of y to (n_samples,), for example using ravel().\n",
            "  clf.fit(x_train, y_train)\n"
          ]
        },
        {
          "output_type": "stream",
          "name": "stdout",
          "text": [
            "\n",
            "\n",
            "               precision    recall  f1-score   support\n",
            "\n",
            "         0.0       0.90      0.82      0.86        11\n",
            "         1.0       0.75      0.86      0.80         7\n",
            "\n",
            "    accuracy                           0.83        18\n",
            "   macro avg       0.82      0.84      0.83        18\n",
            "weighted avg       0.84      0.83      0.83        18\n",
            "\n"
          ]
        }
      ]
    },
    {
      "cell_type": "code",
      "source": [
        "# lists of the best features for the three different classifiers\n",
        "rf_features = ['alpha_ec_2', 'alpha_ec_3', 'alpha_ec_5', 'alpha_ec_6', 'alpha_ec_11', 'alpha_ec_12', 'alpha_ec_21', 'alpha_ec_22', 'alpha_ec_31', 'alpha_ec_41', 'alpha_ec_42', 'alpha_ec_44', 'alpha_ec_45', 'alpha_ec_46', 'beta_ec_5', 'beta_ec_6', 'beta_ec_7', 'beta_ec_11', 'beta_ec_12', 'beta_ec_22', 'theta_ec_0', 'theta_ec_1', 'theta_ec_2', 'theta_ec_17', 'theta_ec_18', 'theta_ec_26', 'alpha_eo_2', 'alpha_eo_3', 'alpha_eo_9', 'alpha_eo_10', 'alpha_eo_18', 'alpha_eo_24', 'alpha_eo_31', 'alpha_eo_33', 'alpha_eo_34', 'alpha_eo_41', 'beta_eo_3', 'beta_eo_5', 'beta_eo_15', 'beta_eo_25', 'beta_eo_26', 'beta_eo_34', 'beta_eo_41', 'theta_eo_18', 'theta_eo_19', 'theta_eo_25', 'theta_eo_27', 'theta_eo_28', 'ratio_alpha_0', 'ratio_alpha_6', 'ratio_alpha_8', 'ratio_alpha_9', 'ratio_alpha_10', 'ratio_alpha_18', 'ratio_alpha_23', 'ratio_alpha_24', 'ratio_alpha_30', 'ratio_alpha_36', 'ratio_beta_3', 'ratio_beta_5', 'ratio_beta_8', 'ratio_beta_11', 'ratio_beta_12', 'ratio_beta_15', 'ratio_beta_17', 'ratio_beta_18', 'ratio_beta_21', 'ratio_beta_23', 'ratio_beta_24', 'ratio_beta_25', 'ratio_beta_26', 'ratio_beta_28', 'ratio_beta_31', 'ratio_beta_34', 'ratio_beta_36', 'ratio_beta_41', 'ratio_beta_42', 'ratio_beta_44', 'ratio_beta_47', 'ratio_theta_1', 'ratio_theta_6', 'ratio_theta_12', 'ratio_theta_14', 'ratio_theta_15', 'ratio_theta_20', 'ratio_theta_26', 'ratio_theta_28', 'ratio_theta_30', 'ratio_theta_33', 'ratio_theta_35', 'ratio_theta_38', 'ratio_theta_40', 'ratio_theta_47']\n",
        "knn_features = ['alpha_ec_2', 'alpha_ec_3', 'alpha_ec_5', 'alpha_ec_6', 'alpha_ec_11', 'alpha_ec_12', 'alpha_ec_21', 'alpha_ec_22', 'alpha_ec_23', 'alpha_ec_31', 'alpha_ec_41', 'alpha_ec_42', 'alpha_ec_44', 'alpha_ec_45', 'alpha_ec_46', 'beta_ec_5', 'beta_ec_6', 'beta_ec_7', 'beta_ec_11', 'beta_ec_12', 'beta_ec_22', 'theta_ec_0', 'theta_ec_1', 'theta_ec_2', 'theta_ec_17', 'theta_ec_18', 'theta_ec_25', 'theta_ec_26', 'theta_ec_27', 'alpha_eo_2', 'alpha_eo_3', 'alpha_eo_9', 'alpha_eo_10', 'alpha_eo_18', 'alpha_eo_24', 'alpha_eo_31', 'alpha_eo_33', 'alpha_eo_34', 'alpha_eo_41', 'beta_eo_3', 'beta_eo_5', 'beta_eo_6', 'beta_eo_15', 'beta_eo_25', 'beta_eo_26', 'beta_eo_34', 'beta_eo_41', 'theta_eo_18', 'theta_eo_19', 'theta_eo_25', 'theta_eo_26', 'theta_eo_27', 'theta_eo_28', 'ratio_alpha_0', 'ratio_alpha_6', 'ratio_alpha_8', 'ratio_alpha_9', 'ratio_alpha_10', 'ratio_alpha_18', 'ratio_alpha_23', 'ratio_alpha_24', 'ratio_alpha_30', 'ratio_alpha_36', 'ratio_beta_3', 'ratio_beta_5', 'ratio_beta_8', 'ratio_beta_9', 'ratio_beta_11', 'ratio_beta_12', 'ratio_beta_15', 'ratio_beta_17', 'ratio_beta_18', 'ratio_beta_21', 'ratio_beta_23', 'ratio_beta_24', 'ratio_beta_25', 'ratio_beta_26', 'ratio_beta_28', 'ratio_beta_31', 'ratio_beta_34', 'ratio_beta_36', 'ratio_beta_41', 'ratio_beta_42', 'ratio_beta_44', 'ratio_beta_47', 'ratio_theta_1', 'ratio_theta_6', 'ratio_theta_12', 'ratio_theta_14', 'ratio_theta_15', 'ratio_theta_20', 'ratio_theta_26', 'ratio_theta_28', 'ratio_theta_30', 'ratio_theta_33', 'ratio_theta_35', 'ratio_theta_38', 'ratio_theta_40', 'ratio_theta_47']\n",
        "svm_features = ['alpha_ec_2', 'alpha_ec_3', 'alpha_ec_5', 'alpha_ec_6', 'alpha_ec_11', 'alpha_ec_12', 'alpha_ec_21', 'alpha_ec_22', 'alpha_ec_23', 'alpha_ec_31', 'alpha_ec_41', 'alpha_ec_42', 'alpha_ec_44', 'alpha_ec_45', 'alpha_ec_46', 'beta_ec_5', 'beta_ec_6', 'beta_ec_7', 'beta_ec_11', 'beta_ec_12', 'beta_ec_22', 'theta_ec_0', 'theta_ec_1', 'theta_ec_2', 'theta_ec_17', 'theta_ec_18', 'theta_ec_25', 'theta_ec_26', 'theta_ec_27', 'alpha_eo_2', 'alpha_eo_3', 'alpha_eo_9', 'alpha_eo_10', 'alpha_eo_16', 'alpha_eo_18', 'alpha_eo_24', 'alpha_eo_31', 'alpha_eo_33', 'alpha_eo_34', 'alpha_eo_41', 'beta_eo_3', 'beta_eo_5', 'beta_eo_6', 'beta_eo_15', 'beta_eo_25', 'beta_eo_26', 'beta_eo_34', 'beta_eo_41', 'theta_eo_18', 'theta_eo_19', 'theta_eo_25', 'theta_eo_26', 'theta_eo_27', 'theta_eo_28', 'ratio_alpha_0', 'ratio_alpha_6', 'ratio_alpha_8', 'ratio_alpha_9', 'ratio_alpha_10', 'ratio_alpha_18', 'ratio_alpha_23', 'ratio_alpha_24', 'ratio_alpha_30', 'ratio_alpha_36', 'ratio_beta_3', 'ratio_beta_5', 'ratio_beta_8', 'ratio_beta_9', 'ratio_beta_11', 'ratio_beta_12', 'ratio_beta_15', 'ratio_beta_17', 'ratio_beta_18', 'ratio_beta_21', 'ratio_beta_23', 'ratio_beta_24', 'ratio_beta_25', 'ratio_beta_26', 'ratio_beta_28', 'ratio_beta_31', 'ratio_beta_34', 'ratio_beta_36', 'ratio_beta_41', 'ratio_beta_42', 'ratio_beta_44', 'ratio_beta_47', 'ratio_theta_1', 'ratio_theta_6', 'ratio_theta_12', 'ratio_theta_14', 'ratio_theta_15', 'ratio_theta_20', 'ratio_theta_26', 'ratio_theta_28', 'ratio_theta_30', 'ratio_theta_33', 'ratio_theta_35', 'ratio_theta_38', 'ratio_theta_40', 'ratio_theta_47']\n"
      ],
      "metadata": {
        "id": "BlckyfPzrJbq"
      },
      "execution_count": null,
      "outputs": []
    },
    {
      "cell_type": "markdown",
      "source": [],
      "metadata": {
        "id": "vDIzecRi1EmA"
      }
    }
  ]
}